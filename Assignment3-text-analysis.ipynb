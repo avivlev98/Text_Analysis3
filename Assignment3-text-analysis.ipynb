{
 "cells": [
  {
   "cell_type": "markdown",
   "metadata": {},
   "source": [
    "# Assignment 3 - Text Analysis\n",
    "An explanation this assignment could be found in the .pdf explanation document"
   ]
  },
  {
   "cell_type": "markdown",
   "metadata": {},
   "source": [
    "\n",
    "## Materials to review for this assignment\n",
    "<h4>From Moodle:</h4> \n",
    "<h5><u>Review the notebooks regarding the following python topics</u>:</h5>\n",
    "<div class=\"alert alert-info\">\n",
    "&#x2714; <b>Working with strings</b> (tutorial notebook)<br/>\n",
    "&#x2714; <b>Text Analysis</b> (tutorial notebook)<br/>\n",
    "&#x2714; <b>Hebrew text analysis tools (tokenizer, wordnet)</b> (moodle example)<br/>\n",
    "&#x2714; <b>(brief review) All previous notebooks</b><br/>\n",
    "</div> \n",
    "<h5><u>Review the presentations regarding the following topics</u>:</h5>\n",
    "<div class=\"alert alert-info\">\n",
    "&#x2714; <b>Text Analysis</b> (lecture presentation)<br/>\n",
    "&#x2714; <b>(brief review) All other presentations</b><br/>\n",
    "</div>"
   ]
  },
  {
   "cell_type": "markdown",
   "metadata": {},
   "source": [
    "## Personal Details:"
   ]
  },
  {
   "cell_type": "code",
   "execution_count": 1,
   "metadata": {},
   "outputs": [],
   "source": [
    "# Details Student 1: Nir Hemed 207949090\n",
    "\n",
    "# Details Student 2: Aviv Levi 319123287\n"
   ]
  },
  {
   "cell_type": "markdown",
   "metadata": {},
   "source": [
    "## Preceding Step - import modules (packages)\n",
    "This step is necessary in order to use external modules (packages). <br/>"
   ]
  },
  {
   "cell_type": "code",
   "execution_count": 1,
   "metadata": {},
   "outputs": [],
   "source": [
    "# --------------------------------------\n",
    "import pandas as pd\n",
    "import numpy as np\n",
    "# --------------------------------------\n",
    "\n",
    "\n",
    "# --------------------------------------\n",
    "# ------------- visualizations:\n",
    "import seaborn as sns\n",
    "import matplotlib.pyplot as plt\n",
    "from matplotlib.colors import ListedColormap\n",
    "# --------------------------------------\n",
    "\n",
    "\n",
    "# ---------------------------------------\n",
    "import sklearn\n",
    "from sklearn import preprocessing, metrics, pipeline, model_selection, feature_extraction \n",
    "from sklearn import naive_bayes, linear_model, svm, neural_network, neighbors, tree\n",
    "from sklearn import decomposition, cluster\n",
    "\n",
    "from sklearn.model_selection import train_test_split, cross_val_score, GridSearchCV \n",
    "from sklearn.pipeline import Pipeline\n",
    "from sklearn.metrics import accuracy_score, confusion_matrix\n",
    "from sklearn.metrics import precision_score, recall_score, f1_score\n",
    "from sklearn.metrics import mean_squared_error, r2_score, silhouette_score\n",
    "from sklearn.preprocessing import MinMaxScaler, StandardScaler, LabelEncoder\n",
    "\n",
    "from sklearn.svm import LinearSVC\n",
    "from sklearn.neural_network import MLPClassifier\n",
    "from sklearn.linear_model import Perceptron, SGDClassifier\n",
    "from sklearn.decomposition import PCA\n",
    "from sklearn.cluster import KMeans\n",
    "from sklearn.naive_bayes import MultinomialNB, GaussianNB\n",
    "from sklearn.neighbors import KNeighborsClassifier\n",
    "from sklearn.tree import DecisionTreeClassifier\n",
    "# ---------------------------------------\n",
    "\n",
    "\n",
    "# ----------------- output and visualizations: \n",
    "import warnings\n",
    "from sklearn.exceptions import ConvergenceWarning\n",
    "warnings.simplefilter(\"ignore\")\n",
    "warnings.simplefilter(action='ignore', category=FutureWarning)\n",
    "warnings.simplefilter(\"ignore\", category=ConvergenceWarning)\n",
    "# show several prints in one cell. This will allow us to condence every trick in one cell.\n",
    "from IPython.core.interactiveshell import InteractiveShell\n",
    "InteractiveShell.ast_node_interactivity = \"all\"\n",
    "%matplotlib inline\n",
    "pd.pandas.set_option('display.max_columns', None)\n",
    "pd.set_option('display.float_format', lambda x: '%.3f' % x)\n",
    "# ---------------------------------------"
   ]
  },
  {
   "cell_type": "markdown",
   "metadata": {},
   "source": [
    "### Text analysis and String manipulation imports:"
   ]
  },
  {
   "cell_type": "code",
   "execution_count": 2,
   "metadata": {},
   "outputs": [],
   "source": [
    "# --------------------------------------\n",
    "# --------- Text analysis and Hebrew text analysis imports:\n",
    "# vectorizers:\n",
    "from sklearn.feature_extraction import text\n",
    "from sklearn.feature_extraction.text import CountVectorizer, TfidfVectorizer\n",
    "\n",
    "# regular expressions:\n",
    "import re\n",
    "# --------------------------------------"
   ]
  },
  {
   "cell_type": "markdown",
   "metadata": {},
   "source": [
    "### (optional) Hebrew text analysis - WordNet (for Hebrew)\n",
    "Note: the WordNet is not a must"
   ]
  },
  {
   "cell_type": "markdown",
   "metadata": {},
   "source": [
    "#### (optional) Only if you didn't install Wordnet (for Hebrew) use:"
   ]
  },
  {
   "cell_type": "code",
   "execution_count": 4,
   "metadata": {},
   "outputs": [
    {
     "name": "stdout",
     "output_type": "stream",
     "text": [
      "Requirement already satisfied: wn in /opt/homebrew/lib/python3.11/site-packages (0.9.4)\n",
      "Requirement already satisfied: requests in /opt/homebrew/lib/python3.11/site-packages (from wn) (2.31.0)\n",
      "Requirement already satisfied: tomli in /opt/homebrew/lib/python3.11/site-packages (from wn) (2.0.1)\n",
      "Requirement already satisfied: charset-normalizer<4,>=2 in /opt/homebrew/lib/python3.11/site-packages (from requests->wn) (3.2.0)\n",
      "Requirement already satisfied: idna<4,>=2.5 in /opt/homebrew/lib/python3.11/site-packages (from requests->wn) (3.4)\n",
      "Requirement already satisfied: urllib3<3,>=1.21.1 in /opt/homebrew/lib/python3.11/site-packages (from requests->wn) (2.0.4)\n",
      "Requirement already satisfied: certifi>=2017.4.17 in /opt/homebrew/lib/python3.11/site-packages (from requests->wn) (2023.7.22)\n",
      "\n",
      "\u001b[1m[\u001b[0m\u001b[34;49mnotice\u001b[0m\u001b[1;39;49m]\u001b[0m\u001b[39;49m A new release of pip is available: \u001b[0m\u001b[31;49m23.0.1\u001b[0m\u001b[39;49m -> \u001b[0m\u001b[32;49m23.2.1\u001b[0m\n",
      "\u001b[1m[\u001b[0m\u001b[34;49mnotice\u001b[0m\u001b[1;39;49m]\u001b[0m\u001b[39;49m To update, run: \u001b[0m\u001b[32;49mpython3.11 -m pip install --upgrade pip\u001b[0m\n",
      "/opt/homebrew/opt/python@3.11/bin/python3.11: No module named -m\n"
     ]
    }
   ],
   "source": [
    "# word net installation:\n",
    "\n",
    "# unmark if you want to use and need to install\n",
    "!pip install wn\n",
    "!python -m wn download omw-he:1.4"
   ]
  },
  {
   "cell_type": "code",
   "execution_count": 3,
   "metadata": {},
   "outputs": [],
   "source": [
    "# word net import:\n",
    "\n",
    "# unmark if you want to use:\n",
    "import wn"
   ]
  },
  {
   "cell_type": "markdown",
   "metadata": {},
   "source": [
    "### (optional) Hebrew text analysis - hebrew_tokenizer (Tokenizer for Hebrew)\n",
    "Note: the hebrew_tokenizer is not a must"
   ]
  },
  {
   "cell_type": "markdown",
   "metadata": {},
   "source": [
    "#### (optional) Only if you didn't install hebrew_tokenizer use:"
   ]
  },
  {
   "cell_type": "code",
   "execution_count": 6,
   "metadata": {},
   "outputs": [
    {
     "name": "stdout",
     "output_type": "stream",
     "text": [
      "Requirement already satisfied: hebrew_tokenizer in /opt/homebrew/lib/python3.11/site-packages (2.3.0)\n",
      "\n",
      "\u001b[1m[\u001b[0m\u001b[34;49mnotice\u001b[0m\u001b[1;39;49m]\u001b[0m\u001b[39;49m A new release of pip is available: \u001b[0m\u001b[31;49m23.0.1\u001b[0m\u001b[39;49m -> \u001b[0m\u001b[32;49m23.2.1\u001b[0m\n",
      "\u001b[1m[\u001b[0m\u001b[34;49mnotice\u001b[0m\u001b[1;39;49m]\u001b[0m\u001b[39;49m To update, run: \u001b[0m\u001b[32;49mpython3.11 -m pip install --upgrade pip\u001b[0m\n"
     ]
    }
   ],
   "source": [
    "# Hebrew tokenizer installation:\n",
    "\n",
    "# unmark if you want to use and need to install:\n",
    "!pip install hebrew_tokenizer"
   ]
  },
  {
   "cell_type": "code",
   "execution_count": 4,
   "metadata": {},
   "outputs": [
    {
     "name": "stdout",
     "output_type": "stream",
     "text": [
      "/Users/alevi/Documents/assignment3-text_analysis\n"
     ]
    }
   ],
   "source": [
    "# Hebrew tokenizer import:\n",
    "\n",
    "# unmark if you want to use:\n",
    "import hebrew_tokenizer as ht"
   ]
  },
  {
   "cell_type": "markdown",
   "metadata": {},
   "source": [
    "### Reading input files\n",
    "Reading input files for train annotated corpus (raw text data) corpus and for the test corpus"
   ]
  },
  {
   "cell_type": "code",
   "execution_count": 145,
   "metadata": {},
   "outputs": [],
   "source": [
    "train_filename = 'annotated_corpus_for_train.csv'\n",
    "test_filename  = 'corpus_for_test.csv'\n",
    "df_train = pd.read_csv(train_filename, index_col=None, encoding='utf-8')\n",
    "df_test  = pd.read_csv(test_filename, index_col=None, encoding='utf-8')"
   ]
  },
  {
   "cell_type": "code",
   "execution_count": 6,
   "metadata": {},
   "outputs": [
    {
     "data": {
      "text/html": [
       "<div>\n",
       "<style scoped>\n",
       "    .dataframe tbody tr th:only-of-type {\n",
       "        vertical-align: middle;\n",
       "    }\n",
       "\n",
       "    .dataframe tbody tr th {\n",
       "        vertical-align: top;\n",
       "    }\n",
       "\n",
       "    .dataframe thead th {\n",
       "        text-align: right;\n",
       "    }\n",
       "</style>\n",
       "<table border=\"1\" class=\"dataframe\">\n",
       "  <thead>\n",
       "    <tr style=\"text-align: right;\">\n",
       "      <th></th>\n",
       "      <th>story</th>\n",
       "      <th>gender</th>\n",
       "    </tr>\n",
       "  </thead>\n",
       "  <tbody>\n",
       "    <tr>\n",
       "      <th>0</th>\n",
       "      <td>כשחבר הזמין אותי לחול, לא באמת חשבתי שזה יקרה,...</td>\n",
       "      <td>m</td>\n",
       "    </tr>\n",
       "    <tr>\n",
       "      <th>1</th>\n",
       "      <td>לפני שהתגייסתי לצבא עשיתי כל מני מיונים ליחידו...</td>\n",
       "      <td>m</td>\n",
       "    </tr>\n",
       "    <tr>\n",
       "      <th>2</th>\n",
       "      <td>מאז שהתחילו הלימודים חלומו של כל סטודנט זה הפנ...</td>\n",
       "      <td>f</td>\n",
       "    </tr>\n",
       "    <tr>\n",
       "      <th>3</th>\n",
       "      <td>כשהייתי ילד, מטוסים היה הדבר שהכי ריתק אותי. ב...</td>\n",
       "      <td>m</td>\n",
       "    </tr>\n",
       "    <tr>\n",
       "      <th>4</th>\n",
       "      <td>‏הייתי מדריכה בכפר נוער ומתאם הכפר היינו צריכי...</td>\n",
       "      <td>f</td>\n",
       "    </tr>\n",
       "    <tr>\n",
       "      <th>5</th>\n",
       "      <td>לפני כ3 חודשים טסתי לרומא למשך שבוע. טסתי במטו...</td>\n",
       "      <td>f</td>\n",
       "    </tr>\n",
       "    <tr>\n",
       "      <th>6</th>\n",
       "      <td>אני כבר שנתיים נשוי והשנה אני ואישתי סוף סוף י...</td>\n",
       "      <td>m</td>\n",
       "    </tr>\n",
       "    <tr>\n",
       "      <th>7</th>\n",
       "      <td>השנה התחלנו שיפוץ בדירה שלנו בתל אביב. הדירה ה...</td>\n",
       "      <td>f</td>\n",
       "    </tr>\n",
       "  </tbody>\n",
       "</table>\n",
       "</div>"
      ],
      "text/plain": [
       "                                               story gender\n",
       "0  כשחבר הזמין אותי לחול, לא באמת חשבתי שזה יקרה,...      m\n",
       "1  לפני שהתגייסתי לצבא עשיתי כל מני מיונים ליחידו...      m\n",
       "2  מאז שהתחילו הלימודים חלומו של כל סטודנט זה הפנ...      f\n",
       "3  כשהייתי ילד, מטוסים היה הדבר שהכי ריתק אותי. ב...      m\n",
       "4  ‏הייתי מדריכה בכפר נוער ומתאם הכפר היינו צריכי...      f\n",
       "5  לפני כ3 חודשים טסתי לרומא למשך שבוע. טסתי במטו...      f\n",
       "6  אני כבר שנתיים נשוי והשנה אני ואישתי סוף סוף י...      m\n",
       "7  השנה התחלנו שיפוץ בדירה שלנו בתל אביב. הדירה ה...      f"
      ]
     },
     "execution_count": 6,
     "metadata": {},
     "output_type": "execute_result"
    },
    {
     "data": {
      "text/plain": [
       "(753, 2)"
      ]
     },
     "execution_count": 6,
     "metadata": {},
     "output_type": "execute_result"
    }
   ],
   "source": [
    "df_train.head(8)\n",
    "df_train.shape"
   ]
  },
  {
   "cell_type": "code",
   "execution_count": 146,
   "metadata": {},
   "outputs": [
    {
     "data": {
      "text/html": [
       "<div>\n",
       "<style scoped>\n",
       "    .dataframe tbody tr th:only-of-type {\n",
       "        vertical-align: middle;\n",
       "    }\n",
       "\n",
       "    .dataframe tbody tr th {\n",
       "        vertical-align: top;\n",
       "    }\n",
       "\n",
       "    .dataframe thead th {\n",
       "        text-align: right;\n",
       "    }\n",
       "</style>\n",
       "<table border=\"1\" class=\"dataframe\">\n",
       "  <thead>\n",
       "    <tr style=\"text-align: right;\">\n",
       "      <th></th>\n",
       "      <th>test_example_id</th>\n",
       "      <th>story</th>\n",
       "    </tr>\n",
       "  </thead>\n",
       "  <tbody>\n",
       "    <tr>\n",
       "      <th>0</th>\n",
       "      <td>0</td>\n",
       "      <td>כל קיץ אני והמשפחה נוסעים לארצות הברית לוס אנג...</td>\n",
       "    </tr>\n",
       "    <tr>\n",
       "      <th>1</th>\n",
       "      <td>1</td>\n",
       "      <td>הגעתי לשירות המדינה אחרי שנתיים כפעיל בתנועת \"...</td>\n",
       "    </tr>\n",
       "    <tr>\n",
       "      <th>2</th>\n",
       "      <td>2</td>\n",
       "      <td>אחת האהבות הגדולות שלי אלו הכלבים שלי ושל אישת...</td>\n",
       "    </tr>\n",
       "  </tbody>\n",
       "</table>\n",
       "</div>"
      ],
      "text/plain": [
       "   test_example_id                                              story\n",
       "0                0  כל קיץ אני והמשפחה נוסעים לארצות הברית לוס אנג...\n",
       "1                1  הגעתי לשירות המדינה אחרי שנתיים כפעיל בתנועת \"...\n",
       "2                2  אחת האהבות הגדולות שלי אלו הכלבים שלי ושל אישת..."
      ]
     },
     "execution_count": 146,
     "metadata": {},
     "output_type": "execute_result"
    },
    {
     "data": {
      "text/plain": [
       "(323, 2)"
      ]
     },
     "execution_count": 146,
     "metadata": {},
     "output_type": "execute_result"
    }
   ],
   "source": [
    "df_test.head(3)\n",
    "df_test.shape"
   ]
  },
  {
   "cell_type": "markdown",
   "metadata": {},
   "source": [
    "### Your implementation:\n",
    "Write your code solution in the following code-cells"
   ]
  },
  {
   "cell_type": "markdown",
   "metadata": {},
   "source": [
    "The function format_data removes whitespaces and digits from the text"
   ]
  },
  {
   "cell_type": "code",
   "execution_count": 8,
   "metadata": {},
   "outputs": [],
   "source": [
    "def format_data(text):\n",
    "    if isinstance(text, str):\n",
    "        text = ' '.join(text.split())  # Remove extra whitespace\n",
    "        text = re.sub(r'\\d', '', text)  # Remove digits\n",
    "        return text.strip()\n",
    "    return text"
   ]
  },
  {
   "cell_type": "markdown",
   "metadata": {},
   "source": [
    "The tokenizer funtion get as input the stories text and return list of tokens"
   ]
  },
  {
   "cell_type": "code",
   "execution_count": 9,
   "metadata": {},
   "outputs": [],
   "source": [
    "def tokenizer(stories):\n",
    "    token_list = []\n",
    "    for token_info in ht.tokenize(stories):\n",
    "        # Assuming token_info contains more than two values\n",
    "        token_type = token_info[0]  # Extract the token type\n",
    "        token_value = token_info[1]  # Extract the token value\n",
    "        \n",
    "        if token_type == 'HEBREW':\n",
    "            token_list.append(token_value)\n",
    "    return token_list"
   ]
  },
  {
   "cell_type": "markdown",
   "metadata": {},
   "source": [
    "First try - We try 4 models that we learn in class , we invesvistage wich model predict in most acurate way , for the first time we use two default vectors without any additional parameters "
   ]
  },
  {
   "cell_type": "code",
   "execution_count": 21,
   "metadata": {},
   "outputs": [],
   "source": [
    "def simple_prediction(models_list, X_train, y_train):\n",
    "    for model_title, model in models_list.items():\n",
    "        print(f\"Model: {model_title}\")\n",
    "        vectorizers = [\n",
    "            ('Count', CountVectorizer(tokenizer=tokenizer)),\n",
    "            ('TF-IDF', TfidfVectorizer(tokenizer=tokenizer))\n",
    "        ]\n",
    "        for vector_title, vectorizer in vectorizers:\n",
    "            # Create a pipeline with preprocessing and the model\n",
    "            pipeline = Pipeline(steps=[\n",
    "                ('model', model)\n",
    "            ])\n",
    "            \n",
    "            # If using GNB model, convert to dense array\n",
    "            if model_title == 'GNB':\n",
    "                X_features = vectorizer.fit_transform(X_train).toarray()\n",
    "            else:\n",
    "                X_features = vectorizer.fit_transform(X_train)\n",
    "                \n",
    "            pipeline.fit(X_features, y_train)\n",
    "            mean_score = cross_val_score(pipeline, X_features, y_train, cv=10, scoring='f1_macro').mean()\n",
    "            \n",
    "            print(f\"Vectorizer: {vector_title}\")\n",
    "            print(\"Mean F1-macro Score:\", mean_score)\n",
    "        print(\"-------------\")"
   ]
  },
  {
   "cell_type": "markdown",
   "metadata": {},
   "source": [
    "Before we call the function we formatting the data with format_data function above , In addition we convert gender coulmn to numeric (0-female,1-male)"
   ]
  },
  {
   "cell_type": "code",
   "execution_count": 22,
   "metadata": {},
   "outputs": [
    {
     "name": "stdout",
     "output_type": "stream",
     "text": [
      "Model: KNN\n",
      "Vectorizer: Count\n",
      "Mean F1-macro Score: 0.5028407112441531\n",
      "Vectorizer: TF-IDF\n",
      "Mean F1-macro Score: 0.6065601586747527\n",
      "-------------\n",
      "Model: NaiveBayes\n",
      "Vectorizer: Count\n",
      "Mean F1-macro Score: 0.5179845499133691\n",
      "Vectorizer: TF-IDF\n",
      "Mean F1-macro Score: 0.4329778822905296\n",
      "-------------\n",
      "Model: GNB\n",
      "Vectorizer: Count\n",
      "Mean F1-macro Score: 0.4766428123251635\n",
      "Vectorizer: TF-IDF\n",
      "Mean F1-macro Score: 0.48266517284933197\n",
      "-------------\n",
      "Model: DecisionTree\n",
      "Vectorizer: Count\n",
      "Mean F1-macro Score: 0.5854186956602772\n",
      "Vectorizer: TF-IDF\n",
      "Mean F1-macro Score: 0.5786410655216964\n",
      "-------------\n"
     ]
    }
   ],
   "source": [
    "model_list = {\n",
    "    'KNN': KNeighborsClassifier(),\n",
    "    'NaiveBayes': MultinomialNB(),\n",
    "    'GNB': GaussianNB(),\n",
    "    'DecisionTree': DecisionTreeClassifier(),\n",
    "}\n",
    "df_train.gender.replace({'f':0,'m':1},inplace=True)\n",
    "x_train = df_train['story'].apply(format_data)\n",
    "y_train = df_train['gender']\n",
    "simple_prediction(model_list,x_train,y_train)\n"
   ]
  },
  {
   "cell_type": "markdown",
   "metadata": {},
   "source": [
    "Second try - perform scaling on story feature"
   ]
  },
  {
   "cell_type": "code",
   "execution_count": 25,
   "metadata": {},
   "outputs": [],
   "source": [
    "def prediction_after_scale(models_list, X_train, y_train):\n",
    "    for model_title, model in models_list.items():\n",
    "        print(f\"Model: {model_title}\")\n",
    "        vectorizers = [\n",
    "            ('Count', CountVectorizer(tokenizer=tokenizer)),\n",
    "            ('TF-IDF', TfidfVectorizer(tokenizer=tokenizer))\n",
    "        ]\n",
    "        for vector_title, vectorizer in vectorizers:\n",
    "            # Create a pipeline with preprocessing and the model\n",
    "            pipeline = Pipeline(steps=[\n",
    "                ('scaler', StandardScaler(with_mean=False)),\n",
    "                ('model', model)\n",
    "            ])\n",
    "            \n",
    "            # If using GNB model, convert to dense array\n",
    "            if model_title == 'GNB':\n",
    "                X_features = vectorizer.fit_transform(X_train).toarray()\n",
    "            else:\n",
    "                X_features = vectorizer.fit_transform(X_train)\n",
    "                \n",
    "            pipeline.fit(X_features, y_train)\n",
    "            mean_score = cross_val_score(pipeline, X_features, y_train, cv=10, scoring='f1_macro').mean()\n",
    "            \n",
    "            print(f\"Vectorizer: {vector_title}\")\n",
    "            print(\"Mean F1-macro Score:\", mean_score)\n",
    "        print(\"-------------\")\n",
    "\n",
    "\n",
    "\n"
   ]
  },
  {
   "cell_type": "code",
   "execution_count": 26,
   "metadata": {},
   "outputs": [
    {
     "name": "stdout",
     "output_type": "stream",
     "text": [
      "Model: KNN\n",
      "Vectorizer: Count\n",
      "Mean F1-macro Score: 0.4329778822905296\n",
      "Vectorizer: TF-IDF\n",
      "Mean F1-macro Score: 0.4381442331527182\n",
      "-------------\n",
      "Model: DecisionTree\n",
      "Vectorizer: Count\n",
      "Mean F1-macro Score: 0.5920913356363782\n",
      "Vectorizer: TF-IDF\n",
      "Mean F1-macro Score: 0.6085222419133326\n",
      "-------------\n",
      "Model: NaiveBayes\n",
      "Vectorizer: Count\n",
      "Mean F1-macro Score: 0.5552015572623695\n",
      "Vectorizer: TF-IDF\n",
      "Mean F1-macro Score: 0.5223275073515532\n",
      "-------------\n",
      "Model: GNB\n",
      "Vectorizer: Count\n",
      "Mean F1-macro Score: 0.47285243220926365\n",
      "Vectorizer: TF-IDF\n",
      "Mean F1-macro Score: 0.47788226402278966\n",
      "-------------\n"
     ]
    }
   ],
   "source": [
    "model_list = {\n",
    "    'KNN': KNeighborsClassifier(),\n",
    "    'DecisionTree': DecisionTreeClassifier(),\n",
    "    'NaiveBayes': MultinomialNB(),\n",
    "    'GNB': GaussianNB(),\n",
    "}\n",
    "df_train.gender.replace({'f':0,'m':1},inplace=True)\n",
    "x_train = df_train['story'].apply(format_data)\n",
    "y_train = df_train['gender']\n",
    "prediction_after_scale(model_list,x_train,y_train)"
   ]
  },
  {
   "cell_type": "markdown",
   "metadata": {},
   "source": [
    "Third try - Normalize the data"
   ]
  },
  {
   "cell_type": "code",
   "execution_count": 27,
   "metadata": {},
   "outputs": [],
   "source": [
    "def prediction_after_normalize(models_list, X_train, y_train):\n",
    "    for model_title, model in models_list.items():\n",
    "        print(f\"Model: {model_title}\")\n",
    "        vectorizers = [\n",
    "            ('Count', CountVectorizer(tokenizer=tokenizer)),\n",
    "            ('TF-IDF', TfidfVectorizer(tokenizer=tokenizer))\n",
    "        ]\n",
    "        for vector_title, vectorizer in vectorizers:\n",
    "            # Create a pipeline with preprocessing and the model\n",
    "            pipeline = Pipeline(steps=[\n",
    "                ('scaler', StandardScaler(with_mean=False)),\n",
    "                ('normalizer', preprocessing.Normalizer(norm='l2')),\n",
    "                ('model', model)\n",
    "            ])\n",
    "            \n",
    "            # If using GNB model, convert to dense array\n",
    "            if model_title == 'GNB':\n",
    "                X_features = vectorizer.fit_transform(X_train).toarray()\n",
    "            else:\n",
    "                X_features = vectorizer.fit_transform(X_train)\n",
    "                \n",
    "            pipeline.fit(X_features, y_train)\n",
    "            mean_score = cross_val_score(pipeline, X_features, y_train, cv=10, scoring='f1_macro').mean()\n",
    "            \n",
    "            print(f\"Vectorizer: {vector_title}\")\n",
    "            print(\"Mean F1-macro Score:\", mean_score)\n",
    "        print(\"-------------\")\n",
    "\n",
    "\n",
    "\n"
   ]
  },
  {
   "cell_type": "code",
   "execution_count": 28,
   "metadata": {},
   "outputs": [
    {
     "name": "stdout",
     "output_type": "stream",
     "text": [
      "Model: KNN\n",
      "Vectorizer: Count\n",
      "Mean F1-macro Score: 0.5260959910681892\n",
      "Vectorizer: TF-IDF\n",
      "Mean F1-macro Score: 0.5253810132739589\n",
      "-------------\n",
      "Model: DecisionTree\n",
      "Vectorizer: Count\n",
      "Mean F1-macro Score: 0.6258099241797924\n",
      "Vectorizer: TF-IDF\n",
      "Mean F1-macro Score: 0.599234179410076\n",
      "-------------\n",
      "Model: NaiveBayes\n",
      "Vectorizer: Count\n",
      "Mean F1-macro Score: 0.4329778822905296\n",
      "Vectorizer: TF-IDF\n",
      "Mean F1-macro Score: 0.4329778822905296\n",
      "-------------\n",
      "Model: GNB\n",
      "Vectorizer: Count\n",
      "Mean F1-macro Score: 0.47285243220926365\n",
      "Vectorizer: TF-IDF\n",
      "Mean F1-macro Score: 0.47788226402278966\n",
      "-------------\n"
     ]
    }
   ],
   "source": [
    "model_list = {\n",
    "    'KNN': KNeighborsClassifier(),\n",
    "    'DecisionTree': DecisionTreeClassifier(),\n",
    "    'NaiveBayes': MultinomialNB(),\n",
    "    'GNB': GaussianNB(),\n",
    "}\n",
    "df_train.gender.replace({'f':0,'m':1},inplace=True)\n",
    "x_train = df_train['story'].apply(format_data)\n",
    "y_train = df_train['gender']\n",
    "prediction_after_normalize(model_list,x_train,y_train)"
   ]
  },
  {
   "cell_type": "markdown",
   "metadata": {},
   "source": [
    "Final - now we want to find the best hyper hyperparameters with GridSearch in addition to scaling and normalization ."
   ]
  },
  {
   "cell_type": "code",
   "execution_count": 111,
   "metadata": {},
   "outputs": [],
   "source": [
    "def prediction_gridsearch(models_list, X_train, y_train):\n",
    "    for model_title, model in models_list.items():\n",
    "        print(f\"Model: {model_title}\")\n",
    "        vectorizers = [\n",
    "            ('Count', CountVectorizer(tokenizer=tokenizer)),\n",
    "            ('TF-IDF', TfidfVectorizer(tokenizer=tokenizer))\n",
    "        ]\n",
    "        for vector_title, vectorizer in vectorizers:\n",
    "            # Create a pipeline with preprocessing and the model\n",
    "            pipeline = Pipeline(steps=[\n",
    "                ('scaler', StandardScaler(with_mean=False)),\n",
    "                ('normalizer', preprocessing.Normalizer(norm='l2')),\n",
    "                ('model', model)\n",
    "            ])\n",
    "            # If using GNB model, convert to dense array\n",
    "            if model_title == 'GNB':\n",
    "                X_features = vectorizer.fit_transform(X_train).toarray()\n",
    "            else:\n",
    "                X_features = vectorizer.fit_transform(X_train)\n",
    "            \n",
    "            # Define hyperparameter grid for GridSearch for each model\n",
    "            param_grid = {}\n",
    "            if model_title == 'KNN':\n",
    "                param_grid = {\"model__n_neighbors\": [3, 5, 7, 10]}\n",
    "            elif model_title == 'DecisionTree':\n",
    "                param_grid = {\n",
    "                \"model__criterion\": [\"gini\", \"entropy\"],\n",
    "                \"model__max_depth\": [5, 10, 15],\n",
    "                \"model__min_samples_split\": [2, 5, 10]\n",
    "                }\n",
    "            elif model_title == 'NaiveBayes':\n",
    "                param_grid = {\"model__alpha\": [0.1, 0.01, 0.001]}\n",
    "            elif model_title == 'GNB':\n",
    "                param_grid = {\"model__var_smoothing\": [1e-9, 1e-10, 1e-11]}\n",
    "            \n",
    "            grid_search = GridSearchCV(pipeline, param_grid, cv=5, scoring='f1_macro')\n",
    "            grid_search.fit(X_features, y_train)\n",
    "            \n",
    "            mean_score = cross_val_score(grid_search.best_estimator_, X_features, y_train, cv=10, scoring='f1_macro').mean()\n",
    "            print(f\"Vectorizer: {vector_title}\")\n",
    "            print(\"Best Hyperparameters:\", grid_search.best_params_)\n",
    "            print(\"Mean F1-macro Score:\", mean_score)\n",
    "        print(\"--------------\")"
   ]
  },
  {
   "cell_type": "code",
   "execution_count": 112,
   "metadata": {},
   "outputs": [
    {
     "name": "stdout",
     "output_type": "stream",
     "text": [
      "Model: KNN\n",
      "Vectorizer: Count\n",
      "Best Hyperparameters: {'model__n_neighbors': 3}\n",
      "Mean F1-macro Score: 0.5494802134387073\n",
      "Vectorizer: TF-IDF\n",
      "Best Hyperparameters: {'model__n_neighbors': 3}\n",
      "Mean F1-macro Score: 0.547889814047633\n",
      "--------------\n",
      "Model: DecisionTree\n",
      "Vectorizer: Count\n",
      "Best Hyperparameters: {'model__criterion': 'gini', 'model__max_depth': 15, 'model__min_samples_split': 2}\n",
      "Mean F1-macro Score: 0.6259903123232136\n",
      "Vectorizer: TF-IDF\n",
      "Best Hyperparameters: {'model__criterion': 'entropy', 'model__max_depth': 10, 'model__min_samples_split': 2}\n",
      "Mean F1-macro Score: 0.568103230418245\n",
      "--------------\n",
      "Model: NaiveBayes\n",
      "Vectorizer: Count\n",
      "Best Hyperparameters: {'model__alpha': 0.01}\n",
      "Mean F1-macro Score: 0.5183499237865827\n",
      "Vectorizer: TF-IDF\n",
      "Best Hyperparameters: {'model__alpha': 0.01}\n",
      "Mean F1-macro Score: 0.5002017812433109\n",
      "--------------\n",
      "Model: GNB\n",
      "Vectorizer: Count\n",
      "Best Hyperparameters: {'model__var_smoothing': 1e-09}\n",
      "Mean F1-macro Score: 0.47285243220926365\n",
      "Vectorizer: TF-IDF\n",
      "Best Hyperparameters: {'model__var_smoothing': 1e-09}\n",
      "Mean F1-macro Score: 0.47788226402278966\n",
      "--------------\n"
     ]
    }
   ],
   "source": [
    "model_list = {\n",
    "    'KNN': KNeighborsClassifier(),\n",
    "    'DecisionTree': DecisionTreeClassifier(),\n",
    "    'NaiveBayes': MultinomialNB(),\n",
    "    'GNB': GaussianNB(),\n",
    "}\n",
    "df_train.gender.replace({'f':0,'m':1},inplace=True)\n",
    "x_train = df_train['story'].apply(format_data)\n",
    "y_train = df_train['gender']\n",
    "prediction_gridsearch(model_list,x_train,y_train)"
   ]
  },
  {
   "cell_type": "markdown",
   "metadata": {
    "tags": []
   },
   "source": [
    "Final Summary - we can see that after all the improvment and adding more parameters (hyperparameters ,normalize,scaling) the best model that predict in the most accurate way is DecisionTree\n",
    "\n",
    "Model: DecisionTree<br/>\n",
    "Vectorizer: Count<br/>\n",
    "Best Hyperparameters: {'model__criterion': 'gini', 'model__max_depth': 15, 'model__min_samples_split': 2}<br/>\n",
    "Mean F1-macro Score: 0.6259903123232136<br/>"
   ]
  },
  {
   "cell_type": "markdown",
   "metadata": {},
   "source": [
    "Now we want to see the results of prediction on training set and visualize it in confusion matrix"
   ]
  },
  {
   "cell_type": "code",
   "execution_count": 126,
   "metadata": {},
   "outputs": [
    {
     "data": {
      "text/html": [
       "<style>#sk-container-id-35 {color: black;}#sk-container-id-35 pre{padding: 0;}#sk-container-id-35 div.sk-toggleable {background-color: white;}#sk-container-id-35 label.sk-toggleable__label {cursor: pointer;display: block;width: 100%;margin-bottom: 0;padding: 0.3em;box-sizing: border-box;text-align: center;}#sk-container-id-35 label.sk-toggleable__label-arrow:before {content: \"▸\";float: left;margin-right: 0.25em;color: #696969;}#sk-container-id-35 label.sk-toggleable__label-arrow:hover:before {color: black;}#sk-container-id-35 div.sk-estimator:hover label.sk-toggleable__label-arrow:before {color: black;}#sk-container-id-35 div.sk-toggleable__content {max-height: 0;max-width: 0;overflow: hidden;text-align: left;background-color: #f0f8ff;}#sk-container-id-35 div.sk-toggleable__content pre {margin: 0.2em;color: black;border-radius: 0.25em;background-color: #f0f8ff;}#sk-container-id-35 input.sk-toggleable__control:checked~div.sk-toggleable__content {max-height: 200px;max-width: 100%;overflow: auto;}#sk-container-id-35 input.sk-toggleable__control:checked~label.sk-toggleable__label-arrow:before {content: \"▾\";}#sk-container-id-35 div.sk-estimator input.sk-toggleable__control:checked~label.sk-toggleable__label {background-color: #d4ebff;}#sk-container-id-35 div.sk-label input.sk-toggleable__control:checked~label.sk-toggleable__label {background-color: #d4ebff;}#sk-container-id-35 input.sk-hidden--visually {border: 0;clip: rect(1px 1px 1px 1px);clip: rect(1px, 1px, 1px, 1px);height: 1px;margin: -1px;overflow: hidden;padding: 0;position: absolute;width: 1px;}#sk-container-id-35 div.sk-estimator {font-family: monospace;background-color: #f0f8ff;border: 1px dotted black;border-radius: 0.25em;box-sizing: border-box;margin-bottom: 0.5em;}#sk-container-id-35 div.sk-estimator:hover {background-color: #d4ebff;}#sk-container-id-35 div.sk-parallel-item::after {content: \"\";width: 100%;border-bottom: 1px solid gray;flex-grow: 1;}#sk-container-id-35 div.sk-label:hover label.sk-toggleable__label {background-color: #d4ebff;}#sk-container-id-35 div.sk-serial::before {content: \"\";position: absolute;border-left: 1px solid gray;box-sizing: border-box;top: 0;bottom: 0;left: 50%;z-index: 0;}#sk-container-id-35 div.sk-serial {display: flex;flex-direction: column;align-items: center;background-color: white;padding-right: 0.2em;padding-left: 0.2em;position: relative;}#sk-container-id-35 div.sk-item {position: relative;z-index: 1;}#sk-container-id-35 div.sk-parallel {display: flex;align-items: stretch;justify-content: center;background-color: white;position: relative;}#sk-container-id-35 div.sk-item::before, #sk-container-id-35 div.sk-parallel-item::before {content: \"\";position: absolute;border-left: 1px solid gray;box-sizing: border-box;top: 0;bottom: 0;left: 50%;z-index: -1;}#sk-container-id-35 div.sk-parallel-item {display: flex;flex-direction: column;z-index: 1;position: relative;background-color: white;}#sk-container-id-35 div.sk-parallel-item:first-child::after {align-self: flex-end;width: 50%;}#sk-container-id-35 div.sk-parallel-item:last-child::after {align-self: flex-start;width: 50%;}#sk-container-id-35 div.sk-parallel-item:only-child::after {width: 0;}#sk-container-id-35 div.sk-dashed-wrapped {border: 1px dashed gray;margin: 0 0.4em 0.5em 0.4em;box-sizing: border-box;padding-bottom: 0.4em;background-color: white;}#sk-container-id-35 div.sk-label label {font-family: monospace;font-weight: bold;display: inline-block;line-height: 1.2em;}#sk-container-id-35 div.sk-label-container {text-align: center;}#sk-container-id-35 div.sk-container {/* jupyter's `normalize.less` sets `[hidden] { display: none; }` but bootstrap.min.css set `[hidden] { display: none !important; }` so we also need the `!important` here to be able to override the default hidden behavior on the sphinx rendered scikit-learn.org. See: https://github.com/scikit-learn/scikit-learn/issues/21755 */display: inline-block !important;position: relative;}#sk-container-id-35 div.sk-text-repr-fallback {display: none;}</style><div id=\"sk-container-id-35\" class=\"sk-top-container\"><div class=\"sk-text-repr-fallback\"><pre>GridSearchCV(cv=5,\n",
       "             estimator=Pipeline(steps=[(&#x27;scaler&#x27;,\n",
       "                                        StandardScaler(with_mean=False)),\n",
       "                                       (&#x27;normalizer&#x27;, Normalizer()),\n",
       "                                       (&#x27;model&#x27;, DecisionTreeClassifier())]),\n",
       "             param_grid={&#x27;model__criterion&#x27;: [&#x27;gini&#x27;, &#x27;entropy&#x27;],\n",
       "                         &#x27;model__max_depth&#x27;: [5, 10, 15],\n",
       "                         &#x27;model__min_samples_split&#x27;: [2, 5, 10]},\n",
       "             scoring=&#x27;f1_macro&#x27;)</pre><b>In a Jupyter environment, please rerun this cell to show the HTML representation or trust the notebook. <br />On GitHub, the HTML representation is unable to render, please try loading this page with nbviewer.org.</b></div><div class=\"sk-container\" hidden><div class=\"sk-item sk-dashed-wrapped\"><div class=\"sk-label-container\"><div class=\"sk-label sk-toggleable\"><input class=\"sk-toggleable__control sk-hidden--visually\" id=\"sk-estimator-id-159\" type=\"checkbox\" ><label for=\"sk-estimator-id-159\" class=\"sk-toggleable__label sk-toggleable__label-arrow\">GridSearchCV</label><div class=\"sk-toggleable__content\"><pre>GridSearchCV(cv=5,\n",
       "             estimator=Pipeline(steps=[(&#x27;scaler&#x27;,\n",
       "                                        StandardScaler(with_mean=False)),\n",
       "                                       (&#x27;normalizer&#x27;, Normalizer()),\n",
       "                                       (&#x27;model&#x27;, DecisionTreeClassifier())]),\n",
       "             param_grid={&#x27;model__criterion&#x27;: [&#x27;gini&#x27;, &#x27;entropy&#x27;],\n",
       "                         &#x27;model__max_depth&#x27;: [5, 10, 15],\n",
       "                         &#x27;model__min_samples_split&#x27;: [2, 5, 10]},\n",
       "             scoring=&#x27;f1_macro&#x27;)</pre></div></div></div><div class=\"sk-parallel\"><div class=\"sk-parallel-item\"><div class=\"sk-item\"><div class=\"sk-label-container\"><div class=\"sk-label sk-toggleable\"><input class=\"sk-toggleable__control sk-hidden--visually\" id=\"sk-estimator-id-160\" type=\"checkbox\" ><label for=\"sk-estimator-id-160\" class=\"sk-toggleable__label sk-toggleable__label-arrow\">estimator: Pipeline</label><div class=\"sk-toggleable__content\"><pre>Pipeline(steps=[(&#x27;scaler&#x27;, StandardScaler(with_mean=False)),\n",
       "                (&#x27;normalizer&#x27;, Normalizer()),\n",
       "                (&#x27;model&#x27;, DecisionTreeClassifier())])</pre></div></div></div><div class=\"sk-serial\"><div class=\"sk-item\"><div class=\"sk-serial\"><div class=\"sk-item\"><div class=\"sk-estimator sk-toggleable\"><input class=\"sk-toggleable__control sk-hidden--visually\" id=\"sk-estimator-id-161\" type=\"checkbox\" ><label for=\"sk-estimator-id-161\" class=\"sk-toggleable__label sk-toggleable__label-arrow\">StandardScaler</label><div class=\"sk-toggleable__content\"><pre>StandardScaler(with_mean=False)</pre></div></div></div><div class=\"sk-item\"><div class=\"sk-estimator sk-toggleable\"><input class=\"sk-toggleable__control sk-hidden--visually\" id=\"sk-estimator-id-162\" type=\"checkbox\" ><label for=\"sk-estimator-id-162\" class=\"sk-toggleable__label sk-toggleable__label-arrow\">Normalizer</label><div class=\"sk-toggleable__content\"><pre>Normalizer()</pre></div></div></div><div class=\"sk-item\"><div class=\"sk-estimator sk-toggleable\"><input class=\"sk-toggleable__control sk-hidden--visually\" id=\"sk-estimator-id-163\" type=\"checkbox\" ><label for=\"sk-estimator-id-163\" class=\"sk-toggleable__label sk-toggleable__label-arrow\">DecisionTreeClassifier</label><div class=\"sk-toggleable__content\"><pre>DecisionTreeClassifier()</pre></div></div></div></div></div></div></div></div></div></div></div></div>"
      ],
      "text/plain": [
       "GridSearchCV(cv=5,\n",
       "             estimator=Pipeline(steps=[('scaler',\n",
       "                                        StandardScaler(with_mean=False)),\n",
       "                                       ('normalizer', Normalizer()),\n",
       "                                       ('model', DecisionTreeClassifier())]),\n",
       "             param_grid={'model__criterion': ['gini', 'entropy'],\n",
       "                         'model__max_depth': [5, 10, 15],\n",
       "                         'model__min_samples_split': [2, 5, 10]},\n",
       "             scoring='f1_macro')"
      ]
     },
     "execution_count": 126,
     "metadata": {},
     "output_type": "execute_result"
    },
    {
     "name": "stdout",
     "output_type": "stream",
     "text": [
      "        Female  Male\n",
      "Female     153    25\n",
      "Male         7   568\n"
     ]
    }
   ],
   "source": [
    "df_train.gender.replace({'f': 0, 'm': 1}, inplace=True)\n",
    "x_train = df_train['story'].apply(format_data)\n",
    "y_train = df_train['gender']\n",
    "\n",
    "\n",
    "vectorizer = CountVectorizer(tokenizer=tokenizer,max_features=5000)\n",
    "\n",
    "X_train_features = vectorizer.fit_transform(x_train)\n",
    "\n",
    "# Define the Decision Tree classifier and hyperparameter grid\n",
    "model = DecisionTreeClassifier()\n",
    "pipeline = Pipeline(steps=[\n",
    "                ('scaler', StandardScaler(with_mean=False)),\n",
    "                ('normalizer', preprocessing.Normalizer(norm='l2')),\n",
    "                ('model', model)\n",
    "            ])\n",
    "# Define hyperparameters\n",
    "param_grid = {\n",
    "    \"model__criterion\": [\"gini\", \"entropy\"],\n",
    "    \"model__max_depth\": [5, 10, 15],\n",
    "    \"model__min_samples_split\": [2, 5, 10]\n",
    "}\n",
    "\n",
    "# Perform grid search using cross-validation\n",
    "grid_search = GridSearchCV(pipeline, param_grid, cv=5, scoring='f1_macro')\n",
    "grid_search.fit(X_train_features, y_train)\n",
    "\n",
    "# Evaluate the best model on the validation set\n",
    "best_model = grid_search.best_estimator_\n",
    "predicted_val = best_model.predict(X_train_features)\n",
    "\n",
    "# Print confusion matrix and classification report\n",
    "confusion_mat = pd.DataFrame(confusion_matrix(y_pred=predicted_val, y_true=y_train), index=['Female', 'Male'], columns=['Female', 'Male'])\n",
    "print(confusion_mat)"
   ]
  },
  {
   "cell_type": "markdown",
   "metadata": {},
   "source": [
    "We can see that the model predicts:<br/>\n",
    "Female as Female (True Positives (TP)) - 153<br/>\n",
    "Female as Male (False Negatives (FN)) - 25<br/>\n",
    "Male as Male (True Negatives (TN)) - 568<br/>\n",
    "Male as Female (False Positives (FP)) - 7<br/>"
   ]
  },
  {
   "cell_type": "markdown",
   "metadata": {},
   "source": [
    "Making prediction with the best model (DecisionTreeClassifier) on test set"
   ]
  },
  {
   "cell_type": "code",
   "execution_count": 147,
   "metadata": {},
   "outputs": [],
   "source": [
    "df_test['story'] = df_test['story'].apply(format_data)\n",
    "X_test = df_test.story\n",
    "X_test_features = vectorizer.fit_transform(X_test)\n",
    "predicted_test = best_model.predict(X_test_features)"
   ]
  },
  {
   "cell_type": "markdown",
   "metadata": {},
   "source": [
    "Convert the gender coulmn to string (0-f,1-m) and print the result"
   ]
  },
  {
   "cell_type": "code",
   "execution_count": 154,
   "metadata": {},
   "outputs": [],
   "source": [
    "gender_predicted = []\n",
    "for pred in predicted_test:\n",
    "    if pred == 1:\n",
    "        gender_predicted.append('m')\n",
    "    else:\n",
    "        gender_predicted.append('f')\n",
    "df_predicted = pd.DataFrame({'test_example_id': df_test['test_example_id'],\n",
    "                               'gender_predicted': gender_predicted})"
   ]
  },
  {
   "cell_type": "markdown",
   "metadata": {},
   "source": [
    "Print First five restults and last five results"
   ]
  },
  {
   "cell_type": "code",
   "execution_count": 155,
   "metadata": {},
   "outputs": [
    {
     "name": "stdout",
     "output_type": "stream",
     "text": [
      "Five first results\n"
     ]
    },
    {
     "data": {
      "text/html": [
       "<div>\n",
       "<style scoped>\n",
       "    .dataframe tbody tr th:only-of-type {\n",
       "        vertical-align: middle;\n",
       "    }\n",
       "\n",
       "    .dataframe tbody tr th {\n",
       "        vertical-align: top;\n",
       "    }\n",
       "\n",
       "    .dataframe thead th {\n",
       "        text-align: right;\n",
       "    }\n",
       "</style>\n",
       "<table border=\"1\" class=\"dataframe\">\n",
       "  <thead>\n",
       "    <tr style=\"text-align: right;\">\n",
       "      <th></th>\n",
       "      <th>test_example_id</th>\n",
       "      <th>gender_predicted</th>\n",
       "    </tr>\n",
       "  </thead>\n",
       "  <tbody>\n",
       "    <tr>\n",
       "      <th>0</th>\n",
       "      <td>0</td>\n",
       "      <td>m</td>\n",
       "    </tr>\n",
       "    <tr>\n",
       "      <th>1</th>\n",
       "      <td>1</td>\n",
       "      <td>m</td>\n",
       "    </tr>\n",
       "    <tr>\n",
       "      <th>2</th>\n",
       "      <td>2</td>\n",
       "      <td>m</td>\n",
       "    </tr>\n",
       "    <tr>\n",
       "      <th>3</th>\n",
       "      <td>3</td>\n",
       "      <td>m</td>\n",
       "    </tr>\n",
       "    <tr>\n",
       "      <th>4</th>\n",
       "      <td>4</td>\n",
       "      <td>m</td>\n",
       "    </tr>\n",
       "  </tbody>\n",
       "</table>\n",
       "</div>"
      ],
      "text/plain": [
       "   test_example_id gender_predicted\n",
       "0                0                m\n",
       "1                1                m\n",
       "2                2                m\n",
       "3                3                m\n",
       "4                4                m"
      ]
     },
     "execution_count": 155,
     "metadata": {},
     "output_type": "execute_result"
    },
    {
     "name": "stdout",
     "output_type": "stream",
     "text": [
      "Five last results\n"
     ]
    },
    {
     "data": {
      "text/html": [
       "<div>\n",
       "<style scoped>\n",
       "    .dataframe tbody tr th:only-of-type {\n",
       "        vertical-align: middle;\n",
       "    }\n",
       "\n",
       "    .dataframe tbody tr th {\n",
       "        vertical-align: top;\n",
       "    }\n",
       "\n",
       "    .dataframe thead th {\n",
       "        text-align: right;\n",
       "    }\n",
       "</style>\n",
       "<table border=\"1\" class=\"dataframe\">\n",
       "  <thead>\n",
       "    <tr style=\"text-align: right;\">\n",
       "      <th></th>\n",
       "      <th>test_example_id</th>\n",
       "      <th>gender_predicted</th>\n",
       "    </tr>\n",
       "  </thead>\n",
       "  <tbody>\n",
       "    <tr>\n",
       "      <th>318</th>\n",
       "      <td>318</td>\n",
       "      <td>m</td>\n",
       "    </tr>\n",
       "    <tr>\n",
       "      <th>319</th>\n",
       "      <td>319</td>\n",
       "      <td>m</td>\n",
       "    </tr>\n",
       "    <tr>\n",
       "      <th>320</th>\n",
       "      <td>320</td>\n",
       "      <td>m</td>\n",
       "    </tr>\n",
       "    <tr>\n",
       "      <th>321</th>\n",
       "      <td>321</td>\n",
       "      <td>m</td>\n",
       "    </tr>\n",
       "    <tr>\n",
       "      <th>322</th>\n",
       "      <td>322</td>\n",
       "      <td>m</td>\n",
       "    </tr>\n",
       "  </tbody>\n",
       "</table>\n",
       "</div>"
      ],
      "text/plain": [
       "     test_example_id gender_predicted\n",
       "318              318                m\n",
       "319              319                m\n",
       "320              320                m\n",
       "321              321                m\n",
       "322              322                m"
      ]
     },
     "execution_count": 155,
     "metadata": {},
     "output_type": "execute_result"
    }
   ],
   "source": [
    "print(\"Five first results\")\n",
    "df_predicted.head(5)\n",
    "print(\"Five last results\")\n",
    "df_predicted.tail(5)\n"
   ]
  },
  {
   "cell_type": "markdown",
   "metadata": {},
   "source": [
    "EDA</br>\n",
    "Results visualization using pie chart "
   ]
  },
  {
   "cell_type": "code",
   "execution_count": 158,
   "metadata": {},
   "outputs": [
    {
     "data": {
      "text/plain": [
       "gender_predicted\n",
       "m    296\n",
       "f     27\n",
       "Name: count, dtype: int64"
      ]
     },
     "execution_count": 158,
     "metadata": {},
     "output_type": "execute_result"
    },
    {
     "data": {
      "text/plain": [
       "([<matplotlib.patches.Wedge at 0x33938e1d0>,\n",
       "  <matplotlib.patches.Wedge at 0x33938ced0>],\n",
       " [Text(-1.0622872932585588, 0.2855620888377956, 'm'),\n",
       "  Text(1.0622872865744952, -0.28556211370242446, 'f')],\n",
       " [Text(-0.5794294326864865, 0.1557611393660703, '91.6%'),\n",
       "  Text(0.5794294290406338, -0.15576115292859516, '8.4%')])"
      ]
     },
     "execution_count": 158,
     "metadata": {},
     "output_type": "execute_result"
    },
    {
     "data": {
      "text/plain": [
       "(-1.0999998629887549,\n",
       " 1.099999993475655,\n",
       " -1.099999978224111,\n",
       " 1.0999997769534906)"
      ]
     },
     "execution_count": 158,
     "metadata": {},
     "output_type": "execute_result"
    },
    {
     "data": {
      "image/png": "[encoded data removed]",
      "text/plain": [
       "<Figure size 640x480 with 1 Axes>"
      ]
     },
     "metadata": {},
     "output_type": "display_data"
    }
   ],
   "source": [
    "# visualize\n",
    "gender_counts = df_predicted['gender_predicted'].value_counts()\n",
    "gender_counts\n",
    "labels = gender_counts.index.tolist()\n",
    "sizes = gender_counts.values.tolist()\n",
    "plt.pie(sizes, labels=labels, autopct='%1.1f%%')\n",
    "plt.axis('equal')"
   ]
  },
  {
   "cell_type": "markdown",
   "metadata": {},
   "source": [
    "### Save output to csv (optional)\n",
    "After you're done save your output to the 'classification_results.csv' csv file.<br/>\n",
    "We assume that the dataframe with your results contain the following columns:\n",
    "* column 1 (left column): 'test_example_id'  - the same id associated to each of the test stories to be predicted.\n",
    "* column 2 (right column): 'predicted_category' - the predicted gender value for each of the associated story. \n",
    "\n",
    "Assuming your predicted values are in the `df_predicted` dataframe, you should save you're results as following:"
   ]
  },
  {
   "cell_type": "code",
   "execution_count": 159,
   "metadata": {},
   "outputs": [],
   "source": [
    "df_predicted.to_csv('classification_results.csv',index=False)"
   ]
  }
 ],
 "metadata": {
  "celltoolbar": "Create Assignment",
  "kernelspec": {
   "display_name": "Python 3 (ipykernel)",
   "language": "python",
   "name": "python3"
  },
  "language_info": {
   "codemirror_mode": {
    "name": "ipython",
    "version": 3
   },
   "file_extension": ".py",
   "mimetype": "text/x-python",
   "name": "python",
   "nbconvert_exporter": "python",
   "pygments_lexer": "ipython3",
   "version": "3.11.4"
  }
 },
 "nbformat": 4,
 "nbformat_minor": 4
}
