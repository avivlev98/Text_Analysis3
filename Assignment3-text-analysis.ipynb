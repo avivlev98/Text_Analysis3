{
 "cells": [
  {
   "cell_type": "markdown",
   "metadata": {},
   "source": [
    "# Assignment 3 - Text Analysis\n",
    "An explanation this assignment could be found in the .pdf explanation document"
   ]
  },
  {
   "cell_type": "markdown",
   "metadata": {},
   "source": [
    "\n",
    "## Materials to review for this assignment\n",
    "<h4>From Moodle:</h4> \n",
    "<h5><u>Review the notebooks regarding the following python topics</u>:</h5>\n",
    "<div class=\"alert alert-info\">\n",
    "&#x2714; <b>Working with strings</b> (tutorial notebook)<br/>\n",
    "&#x2714; <b>Text Analysis</b> (tutorial notebook)<br/>\n",
    "&#x2714; <b>Hebrew text analysis tools (tokenizer, wordnet)</b> (moodle example)<br/>\n",
    "&#x2714; <b>(brief review) All previous notebooks</b><br/>\n",
    "</div> \n",
    "<h5><u>Review the presentations regarding the following topics</u>:</h5>\n",
    "<div class=\"alert alert-info\">\n",
    "&#x2714; <b>Text Analysis</b> (lecture presentation)<br/>\n",
    "&#x2714; <b>(brief review) All other presentations</b><br/>\n",
    "</div>"
   ]
  },
  {
   "cell_type": "markdown",
   "metadata": {},
   "source": [
    "## Personal Details:"
   ]
  },
  {
   "cell_type": "code",
   "execution_count": 1,
   "metadata": {},
   "outputs": [],
   "source": [
    "# Details Student 1: Nir Hemed 207949090\n",
    "\n",
    "# Details Student 2: Aviv Levi 319123287\n"
   ]
  },
  {
   "cell_type": "markdown",
   "metadata": {},
   "source": [
    "## Preceding Step - import modules (packages)\n",
    "This step is necessary in order to use external modules (packages). <br/>"
   ]
  },
  {
   "cell_type": "code",
   "execution_count": 2,
   "metadata": {},
   "outputs": [],
   "source": [
    "# --------------------------------------\n",
    "import pandas as pd\n",
    "import numpy as np\n",
    "# --------------------------------------\n",
    "\n",
    "\n",
    "# --------------------------------------\n",
    "# ------------- visualizations:\n",
    "import seaborn as sns\n",
    "import matplotlib.pyplot as plt\n",
    "from matplotlib.colors import ListedColormap\n",
    "# --------------------------------------\n",
    "\n",
    "\n",
    "# ---------------------------------------\n",
    "import sklearn\n",
    "from sklearn import preprocessing, metrics, pipeline, model_selection, feature_extraction \n",
    "from sklearn import naive_bayes, linear_model, svm, neural_network, neighbors, tree\n",
    "from sklearn import decomposition, cluster\n",
    "\n",
    "from sklearn.model_selection import train_test_split, cross_val_score, GridSearchCV \n",
    "from sklearn.pipeline import Pipeline\n",
    "from sklearn.metrics import accuracy_score, confusion_matrix\n",
    "from sklearn.metrics import precision_score, recall_score, f1_score\n",
    "from sklearn.metrics import mean_squared_error, r2_score, silhouette_score\n",
    "from sklearn.preprocessing import MinMaxScaler, StandardScaler, LabelEncoder\n",
    "\n",
    "from sklearn.svm import LinearSVC\n",
    "from sklearn.neural_network import MLPClassifier\n",
    "from sklearn.linear_model import Perceptron, SGDClassifier\n",
    "from sklearn.decomposition import PCA\n",
    "from sklearn.cluster import KMeans\n",
    "from sklearn.naive_bayes import MultinomialNB, GaussianNB\n",
    "from sklearn.neighbors import KNeighborsClassifier\n",
    "from sklearn.tree import DecisionTreeClassifier\n",
    "# ---------------------------------------\n",
    "\n",
    "\n",
    "# ----------------- output and visualizations: \n",
    "import warnings\n",
    "from sklearn.exceptions import ConvergenceWarning\n",
    "warnings.simplefilter(\"ignore\")\n",
    "warnings.simplefilter(action='ignore', category=FutureWarning)\n",
    "warnings.simplefilter(\"ignore\", category=ConvergenceWarning)\n",
    "# show several prints in one cell. This will allow us to condence every trick in one cell.\n",
    "from IPython.core.interactiveshell import InteractiveShell\n",
    "InteractiveShell.ast_node_interactivity = \"all\"\n",
    "%matplotlib inline\n",
    "pd.pandas.set_option('display.max_columns', None)\n",
    "pd.set_option('display.float_format', lambda x: '%.3f' % x)\n",
    "# ---------------------------------------"
   ]
  },
  {
   "cell_type": "markdown",
   "metadata": {},
   "source": [
    "### Text analysis and String manipulation imports:"
   ]
  },
  {
   "cell_type": "code",
   "execution_count": 3,
   "metadata": {},
   "outputs": [],
   "source": [
    "# --------------------------------------\n",
    "# --------- Text analysis and Hebrew text analysis imports:\n",
    "# vectorizers:\n",
    "from sklearn.feature_extraction import text\n",
    "from sklearn.feature_extraction.text import CountVectorizer, TfidfVectorizer\n",
    "\n",
    "# regular expressions:\n",
    "import re\n",
    "# --------------------------------------"
   ]
  },
  {
   "cell_type": "markdown",
   "metadata": {},
   "source": [
    "### (optional) Hebrew text analysis - WordNet (for Hebrew)\n",
    "Note: the WordNet is not a must"
   ]
  },
  {
   "cell_type": "markdown",
   "metadata": {},
   "source": [
    "#### (optional) Only if you didn't install Wordnet (for Hebrew) use:"
   ]
  },
  {
   "cell_type": "code",
   "execution_count": 4,
   "metadata": {},
   "outputs": [
    {
     "name": "stdout",
     "output_type": "stream",
     "text": [
      "Requirement already satisfied: wn in /opt/homebrew/lib/python3.11/site-packages (0.9.4)\n",
      "Requirement already satisfied: requests in /opt/homebrew/lib/python3.11/site-packages (from wn) (2.31.0)\n",
      "Requirement already satisfied: tomli in /opt/homebrew/lib/python3.11/site-packages (from wn) (2.0.1)\n",
      "Requirement already satisfied: charset-normalizer<4,>=2 in /opt/homebrew/lib/python3.11/site-packages (from requests->wn) (3.2.0)\n",
      "Requirement already satisfied: idna<4,>=2.5 in /opt/homebrew/lib/python3.11/site-packages (from requests->wn) (3.4)\n",
      "Requirement already satisfied: urllib3<3,>=1.21.1 in /opt/homebrew/lib/python3.11/site-packages (from requests->wn) (2.0.4)\n",
      "Requirement already satisfied: certifi>=2017.4.17 in /opt/homebrew/lib/python3.11/site-packages (from requests->wn) (2023.7.22)\n",
      "\n",
      "\u001b[1m[\u001b[0m\u001b[34;49mnotice\u001b[0m\u001b[1;39;49m]\u001b[0m\u001b[39;49m A new release of pip is available: \u001b[0m\u001b[31;49m23.0.1\u001b[0m\u001b[39;49m -> \u001b[0m\u001b[32;49m23.2.1\u001b[0m\n",
      "\u001b[1m[\u001b[0m\u001b[34;49mnotice\u001b[0m\u001b[1;39;49m]\u001b[0m\u001b[39;49m To update, run: \u001b[0m\u001b[32;49mpython3.11 -m pip install --upgrade pip\u001b[0m\n",
      "/opt/homebrew/opt/python@3.11/bin/python3.11: No module named -m\n"
     ]
    }
   ],
   "source": [
    "# word net installation:\n",
    "\n",
    "# unmark if you want to use and need to install\n",
    "!python3.11 -m pip install wn\n",
    "!python3.11 -m -m wn download omw-he:1.4"
   ]
  },
  {
   "cell_type": "code",
   "execution_count": 5,
   "metadata": {},
   "outputs": [],
   "source": [
    "# word net import:\n",
    "\n",
    "# unmark if you want to use:\n",
    "import wn"
   ]
  },
  {
   "cell_type": "markdown",
   "metadata": {},
   "source": [
    "### (optional) Hebrew text analysis - hebrew_tokenizer (Tokenizer for Hebrew)\n",
    "Note: the hebrew_tokenizer is not a must"
   ]
  },
  {
   "cell_type": "markdown",
   "metadata": {},
   "source": [
    "#### (optional) Only if you didn't install hebrew_tokenizer use:"
   ]
  },
  {
   "cell_type": "code",
   "execution_count": 6,
   "metadata": {},
   "outputs": [
    {
     "name": "stdout",
     "output_type": "stream",
     "text": [
      "Requirement already satisfied: hebrew_tokenizer in /opt/homebrew/lib/python3.11/site-packages (2.3.0)\n",
      "\n",
      "\u001b[1m[\u001b[0m\u001b[34;49mnotice\u001b[0m\u001b[1;39;49m]\u001b[0m\u001b[39;49m A new release of pip is available: \u001b[0m\u001b[31;49m23.0.1\u001b[0m\u001b[39;49m -> \u001b[0m\u001b[32;49m23.2.1\u001b[0m\n",
      "\u001b[1m[\u001b[0m\u001b[34;49mnotice\u001b[0m\u001b[1;39;49m]\u001b[0m\u001b[39;49m To update, run: \u001b[0m\u001b[32;49mpython3.11 -m pip install --upgrade pip\u001b[0m\n"
     ]
    }
   ],
   "source": [
    "# Hebrew tokenizer installation:\n",
    "\n",
    "# unmark if you want to use and need to install:\n",
    "!python3.11 -m pip install hebrew_tokenizer"
   ]
  },
  {
   "cell_type": "code",
   "execution_count": 7,
   "metadata": {},
   "outputs": [
    {
     "name": "stdout",
     "output_type": "stream",
     "text": [
      "/Users/alevi/Documents/assignment3-text_analysis\n"
     ]
    }
   ],
   "source": [
    "# Hebrew tokenizer import:\n",
    "\n",
    "# unmark if you want to use:\n",
    "import hebrew_tokenizer as ht"
   ]
  },
  {
   "cell_type": "markdown",
   "metadata": {},
   "source": [
    "### Reading input files\n",
    "Reading input files for train annotated corpus (raw text data) corpus and for the test corpus"
   ]
  },
  {
   "cell_type": "code",
   "execution_count": 8,
   "metadata": {},
   "outputs": [],
   "source": [
    "train_filename = 'annotated_corpus_for_train.csv'\n",
    "test_filename  = 'corpus_for_test.csv'\n",
    "df_train = pd.read_csv(train_filename, index_col=None, encoding='utf-8')\n",
    "df_test  = pd.read_csv(test_filename, index_col=None, encoding='utf-8')"
   ]
  },
  {
   "cell_type": "code",
   "execution_count": 9,
   "metadata": {},
   "outputs": [
    {
     "data": {
      "text/html": [
       "<div>\n",
       "<style scoped>\n",
       "    .dataframe tbody tr th:only-of-type {\n",
       "        vertical-align: middle;\n",
       "    }\n",
       "\n",
       "    .dataframe tbody tr th {\n",
       "        vertical-align: top;\n",
       "    }\n",
       "\n",
       "    .dataframe thead th {\n",
       "        text-align: right;\n",
       "    }\n",
       "</style>\n",
       "<table border=\"1\" class=\"dataframe\">\n",
       "  <thead>\n",
       "    <tr style=\"text-align: right;\">\n",
       "      <th></th>\n",
       "      <th>story</th>\n",
       "      <th>gender</th>\n",
       "    </tr>\n",
       "  </thead>\n",
       "  <tbody>\n",
       "    <tr>\n",
       "      <th>0</th>\n",
       "      <td>כשחבר הזמין אותי לחול, לא באמת חשבתי שזה יקרה,...</td>\n",
       "      <td>m</td>\n",
       "    </tr>\n",
       "    <tr>\n",
       "      <th>1</th>\n",
       "      <td>לפני שהתגייסתי לצבא עשיתי כל מני מיונים ליחידו...</td>\n",
       "      <td>m</td>\n",
       "    </tr>\n",
       "    <tr>\n",
       "      <th>2</th>\n",
       "      <td>מאז שהתחילו הלימודים חלומו של כל סטודנט זה הפנ...</td>\n",
       "      <td>f</td>\n",
       "    </tr>\n",
       "    <tr>\n",
       "      <th>3</th>\n",
       "      <td>כשהייתי ילד, מטוסים היה הדבר שהכי ריתק אותי. ב...</td>\n",
       "      <td>m</td>\n",
       "    </tr>\n",
       "    <tr>\n",
       "      <th>4</th>\n",
       "      <td>‏הייתי מדריכה בכפר נוער ומתאם הכפר היינו צריכי...</td>\n",
       "      <td>f</td>\n",
       "    </tr>\n",
       "    <tr>\n",
       "      <th>5</th>\n",
       "      <td>לפני כ3 חודשים טסתי לרומא למשך שבוע. טסתי במטו...</td>\n",
       "      <td>f</td>\n",
       "    </tr>\n",
       "    <tr>\n",
       "      <th>6</th>\n",
       "      <td>אני כבר שנתיים נשוי והשנה אני ואישתי סוף סוף י...</td>\n",
       "      <td>m</td>\n",
       "    </tr>\n",
       "    <tr>\n",
       "      <th>7</th>\n",
       "      <td>השנה התחלנו שיפוץ בדירה שלנו בתל אביב. הדירה ה...</td>\n",
       "      <td>f</td>\n",
       "    </tr>\n",
       "  </tbody>\n",
       "</table>\n",
       "</div>"
      ],
      "text/plain": [
       "                                               story gender\n",
       "0  כשחבר הזמין אותי לחול, לא באמת חשבתי שזה יקרה,...      m\n",
       "1  לפני שהתגייסתי לצבא עשיתי כל מני מיונים ליחידו...      m\n",
       "2  מאז שהתחילו הלימודים חלומו של כל סטודנט זה הפנ...      f\n",
       "3  כשהייתי ילד, מטוסים היה הדבר שהכי ריתק אותי. ב...      m\n",
       "4  ‏הייתי מדריכה בכפר נוער ומתאם הכפר היינו צריכי...      f\n",
       "5  לפני כ3 חודשים טסתי לרומא למשך שבוע. טסתי במטו...      f\n",
       "6  אני כבר שנתיים נשוי והשנה אני ואישתי סוף סוף י...      m\n",
       "7  השנה התחלנו שיפוץ בדירה שלנו בתל אביב. הדירה ה...      f"
      ]
     },
     "execution_count": 9,
     "metadata": {},
     "output_type": "execute_result"
    },
    {
     "data": {
      "text/plain": [
       "(753, 2)"
      ]
     },
     "execution_count": 9,
     "metadata": {},
     "output_type": "execute_result"
    }
   ],
   "source": [
    "df_train.head(8)\n",
    "df_train.shape"
   ]
  },
  {
   "cell_type": "code",
   "execution_count": 10,
   "metadata": {},
   "outputs": [
    {
     "data": {
      "text/html": [
       "<div>\n",
       "<style scoped>\n",
       "    .dataframe tbody tr th:only-of-type {\n",
       "        vertical-align: middle;\n",
       "    }\n",
       "\n",
       "    .dataframe tbody tr th {\n",
       "        vertical-align: top;\n",
       "    }\n",
       "\n",
       "    .dataframe thead th {\n",
       "        text-align: right;\n",
       "    }\n",
       "</style>\n",
       "<table border=\"1\" class=\"dataframe\">\n",
       "  <thead>\n",
       "    <tr style=\"text-align: right;\">\n",
       "      <th></th>\n",
       "      <th>test_example_id</th>\n",
       "      <th>story</th>\n",
       "    </tr>\n",
       "  </thead>\n",
       "  <tbody>\n",
       "    <tr>\n",
       "      <th>0</th>\n",
       "      <td>0</td>\n",
       "      <td>כל קיץ אני והמשפחה נוסעים לארצות הברית לוס אנג...</td>\n",
       "    </tr>\n",
       "    <tr>\n",
       "      <th>1</th>\n",
       "      <td>1</td>\n",
       "      <td>הגעתי לשירות המדינה אחרי שנתיים כפעיל בתנועת \"...</td>\n",
       "    </tr>\n",
       "    <tr>\n",
       "      <th>2</th>\n",
       "      <td>2</td>\n",
       "      <td>אחת האהבות הגדולות שלי אלו הכלבים שלי ושל אישת...</td>\n",
       "    </tr>\n",
       "  </tbody>\n",
       "</table>\n",
       "</div>"
      ],
      "text/plain": [
       "   test_example_id                                              story\n",
       "0                0  כל קיץ אני והמשפחה נוסעים לארצות הברית לוס אנג...\n",
       "1                1  הגעתי לשירות המדינה אחרי שנתיים כפעיל בתנועת \"...\n",
       "2                2  אחת האהבות הגדולות שלי אלו הכלבים שלי ושל אישת..."
      ]
     },
     "execution_count": 10,
     "metadata": {},
     "output_type": "execute_result"
    },
    {
     "data": {
      "text/plain": [
       "(323, 2)"
      ]
     },
     "execution_count": 10,
     "metadata": {},
     "output_type": "execute_result"
    }
   ],
   "source": [
    "df_test.head(3)\n",
    "df_test.shape"
   ]
  },
  {
   "cell_type": "markdown",
   "metadata": {},
   "source": [
    "### Your implementation:\n",
    "Write your code solution in the following code-cells"
   ]
  },
  {
   "cell_type": "markdown",
   "metadata": {},
   "source": [
    "The function format_data removes whitespaces and digits from the text"
   ]
  },
  {
   "cell_type": "code",
   "execution_count": 11,
   "metadata": {},
   "outputs": [],
   "source": [
    "def format_data(text):\n",
    "    if isinstance(text, str):\n",
    "        text = ' '.join(text.split())  # Remove extra whitespace\n",
    "        text = re.sub(r'\\d', '', text)  # Remove digits\n",
    "        return text.strip()\n",
    "    return text"
   ]
  },
  {
   "cell_type": "markdown",
   "metadata": {},
   "source": [
    "The tokenizer funtion get as input the stories text and return list of tokens"
   ]
  },
  {
   "cell_type": "code",
   "execution_count": 12,
   "metadata": {},
   "outputs": [],
   "source": [
    "def tokenizer(stories):\n",
    "    token_list = []\n",
    "    for token_info in ht.tokenize(stories):\n",
    "        # Assuming token_info contains more than two values\n",
    "        token_type = token_info[0]  # Extract the token type\n",
    "        token_value = token_info[1]  # Extract the token value\n",
    "        \n",
    "        if token_type == 'HEBREW':\n",
    "            token_list.append(token_value)\n",
    "    return token_list"
   ]
  },
  {
   "cell_type": "markdown",
   "metadata": {},
   "source": [
    "First try - We try 4 models that we learn in class , we invesvistage wich model predict in most acurate way , for the first time we use two default vectors without any additional parameters "
   ]
  },
  {
   "cell_type": "code",
   "execution_count": 22,
   "metadata": {},
   "outputs": [],
   "source": [
    "def simple_prediction(models_list, X_train, y_train):\n",
    "    for model_title, model in models_list.items():\n",
    "        print(f\"Model: {model_title}\")\n",
    "        vectorizers = [\n",
    "            ('Count', CountVectorizer(tokenizer=tokenizer)),\n",
    "            ('TF-IDF', TfidfVectorizer(tokenizer=tokenizer))\n",
    "        ]\n",
    "        for vector_title, vectorizer in vectorizers:\n",
    "            # Create a pipeline with preprocessing and the model\n",
    "            pipeline = Pipeline(steps=[\n",
    "                ('model', model)\n",
    "            ])\n",
    "            \n",
    "            # If using GNB model, convert to dense array\n",
    "            if model_title == 'GNB':\n",
    "                X_features = vectorizer.fit_transform(X_train).toarray()\n",
    "            else:\n",
    "                X_features = vectorizer.fit_transform(X_train)\n",
    "            \n",
    "            mean_score = cross_val_score(pipeline, X_features, y_train, cv=10, scoring='f1_macro').mean()\n",
    "            \n",
    "            print(f\"Vectorizer: {vector_title}\")\n",
    "            print(\"Mean F1-macro Score:\", mean_score)\n",
    "        print(\"-------------\")"
   ]
  },
  {
   "cell_type": "markdown",
   "metadata": {},
   "source": [
    "Before we call the function we formatting the data with format_data function above , In addition we convert gender coulmn to numeric (0-female,1-male)"
   ]
  },
  {
   "cell_type": "code",
   "execution_count": 23,
   "metadata": {},
   "outputs": [
    {
     "name": "stdout",
     "output_type": "stream",
     "text": [
      "Model: KNN\n",
      "Vectorizer: Count\n",
      "Mean F1-macro Score: 0.5028407112441531\n",
      "Vectorizer: TF-IDF\n",
      "Mean F1-macro Score: 0.6065601586747527\n",
      "-------------\n",
      "Model: NaiveBayes\n",
      "Vectorizer: Count\n",
      "Mean F1-macro Score: 0.5179845499133691\n",
      "Vectorizer: TF-IDF\n",
      "Mean F1-macro Score: 0.4329778822905296\n",
      "-------------\n",
      "Model: GNB\n",
      "Vectorizer: Count\n",
      "Mean F1-macro Score: 0.4766428123251635\n",
      "Vectorizer: TF-IDF\n",
      "Mean F1-macro Score: 0.48266517284933197\n",
      "-------------\n",
      "Model: DecisionTree\n",
      "Vectorizer: Count\n",
      "Mean F1-macro Score: 0.5938679814069018\n",
      "Vectorizer: TF-IDF\n",
      "Mean F1-macro Score: 0.6043461373531358\n",
      "-------------\n"
     ]
    }
   ],
   "source": [
    "model_list = {\n",
    "    'KNN': KNeighborsClassifier(),\n",
    "    'NaiveBayes': MultinomialNB(),\n",
    "    'GNB': GaussianNB(),\n",
    "    'DecisionTree': DecisionTreeClassifier(),\n",
    "}\n",
    "df_train.gender.replace({'f':0,'m':1},inplace=True)\n",
    "x_train = df_train['story'].apply(format_data)\n",
    "y_train = df_train['gender']\n",
    "simple_prediction(model_list,x_train,y_train)\n"
   ]
  },
  {
   "cell_type": "markdown",
   "metadata": {},
   "source": [
    "Second try - perform scaling on story feature"
   ]
  },
  {
   "cell_type": "code",
   "execution_count": 20,
   "metadata": {},
   "outputs": [],
   "source": [
    "def prediction_after_scale(models_list, X_train, y_train):\n",
    "    for model_title, model in models_list.items():\n",
    "        print(f\"Model: {model_title}\")\n",
    "        vectorizers = [\n",
    "            ('Count', CountVectorizer(tokenizer=tokenizer)),\n",
    "            ('TF-IDF', TfidfVectorizer(tokenizer=tokenizer))\n",
    "        ]\n",
    "        for vector_title, vectorizer in vectorizers:\n",
    "            # Create a pipeline with preprocessing and the model\n",
    "            pipeline = Pipeline(steps=[\n",
    "                ('scaler', StandardScaler(with_mean=False)),\n",
    "                ('model', model)\n",
    "            ])\n",
    "            \n",
    "            # If using GNB model, convert to dense array\n",
    "            if model_title == 'GNB':\n",
    "                X_features = vectorizer.fit_transform(X_train).toarray()\n",
    "            else:\n",
    "                X_features = vectorizer.fit_transform(X_train)\n",
    "            \n",
    "            mean_score = cross_val_score(pipeline, X_features, y_train, cv=10, scoring='f1_macro').mean()\n",
    "            \n",
    "            print(f\"Vectorizer: {vector_title}\")\n",
    "            print(\"Mean F1-macro Score:\", mean_score)\n",
    "        print(\"-------------\")\n",
    "\n",
    "\n",
    "\n"
   ]
  },
  {
   "cell_type": "code",
   "execution_count": 21,
   "metadata": {},
   "outputs": [
    {
     "name": "stdout",
     "output_type": "stream",
     "text": [
      "Model: KNN\n",
      "Vectorizer: Count\n",
      "Mean F1-macro Score: 0.4329778822905296\n",
      "Vectorizer: TF-IDF\n",
      "Mean F1-macro Score: 0.4381442331527182\n",
      "-------------\n",
      "Model: DecisionTree\n",
      "Vectorizer: Count\n",
      "Mean F1-macro Score: 0.5983242472485788\n",
      "Vectorizer: TF-IDF\n",
      "Mean F1-macro Score: 0.6103610393943438\n",
      "-------------\n",
      "Model: NaiveBayes\n",
      "Vectorizer: Count\n",
      "Mean F1-macro Score: 0.5552015572623695\n",
      "Vectorizer: TF-IDF\n",
      "Mean F1-macro Score: 0.5223275073515532\n",
      "-------------\n",
      "Model: GNB\n",
      "Vectorizer: Count\n",
      "Mean F1-macro Score: 0.47285243220926365\n",
      "Vectorizer: TF-IDF\n",
      "Mean F1-macro Score: 0.47788226402278966\n",
      "-------------\n"
     ]
    }
   ],
   "source": [
    "model_list = {\n",
    "    'KNN': KNeighborsClassifier(),\n",
    "    'DecisionTree': DecisionTreeClassifier(),\n",
    "    'NaiveBayes': MultinomialNB(),\n",
    "    'GNB': GaussianNB(),\n",
    "}\n",
    "df_train.gender.replace({'f':0,'m':1},inplace=True)\n",
    "x_train = df_train['story'].apply(format_data)\n",
    "y_train = df_train['gender']\n",
    "prediction_after_scale(model_list,x_train,y_train)"
   ]
  },
  {
   "cell_type": "markdown",
   "metadata": {},
   "source": [
    "Third try - Normalize the data"
   ]
  },
  {
   "cell_type": "code",
   "execution_count": 15,
   "metadata": {},
   "outputs": [],
   "source": [
    "def prediction_after_normalize(models_list, X_train, y_train):\n",
    "    for model_title, model in models_list.items():\n",
    "        print(f\"Model: {model_title}\")\n",
    "        vectorizers = [\n",
    "            ('Count', CountVectorizer(tokenizer=tokenizer)),\n",
    "            ('TF-IDF', TfidfVectorizer(tokenizer=tokenizer))\n",
    "        ]\n",
    "        for vector_title, vectorizer in vectorizers:\n",
    "            # Create a pipeline with preprocessing and the model\n",
    "            pipeline = Pipeline(steps=[\n",
    "                ('scaler', StandardScaler(with_mean=False)),\n",
    "                ('normalizer', preprocessing.Normalizer(norm='l2')),\n",
    "                ('model', model)\n",
    "            ])\n",
    "            \n",
    "            # If using GNB model, convert to dense array\n",
    "            if model_title == 'GNB':\n",
    "                X_features = vectorizer.fit_transform(X_train).toarray()\n",
    "            else:\n",
    "                X_features = vectorizer.fit_transform(X_train)\n",
    "            \n",
    "            mean_score = cross_val_score(pipeline, X_features, y_train, cv=10, scoring='f1_macro').mean()\n",
    "            \n",
    "            print(f\"Vectorizer: {vector_title}\")\n",
    "            print(\"Mean F1-macro Score:\", mean_score)\n",
    "        print(\"-------------\")\n",
    "\n",
    "\n",
    "\n"
   ]
  },
  {
   "cell_type": "code",
   "execution_count": 16,
   "metadata": {},
   "outputs": [
    {
     "name": "stdout",
     "output_type": "stream",
     "text": [
      "Model: KNN\n",
      "____________\n",
      "Vectorizer: Count\n",
      "Mean F1-macro Score: 0.5260959910681892\n",
      "Vectorizer: TF-IDF\n",
      "Mean F1-macro Score: 0.5253810132739589\n",
      "Model: DecisionTree\n",
      "____________\n",
      "Vectorizer: Count\n",
      "Mean F1-macro Score: 0.6038220680941743\n",
      "Vectorizer: TF-IDF\n",
      "Mean F1-macro Score: 0.5771538044301814\n",
      "Model: NaiveBayes\n",
      "____________\n",
      "Vectorizer: Count\n",
      "Mean F1-macro Score: 0.4329778822905296\n",
      "Vectorizer: TF-IDF\n",
      "Mean F1-macro Score: 0.4329778822905296\n",
      "Model: GNB\n",
      "____________\n",
      "Vectorizer: Count\n",
      "Mean F1-macro Score: 0.47285243220926365\n",
      "Vectorizer: TF-IDF\n",
      "Mean F1-macro Score: 0.47788226402278966\n"
     ]
    }
   ],
   "source": [
    "model_list = {\n",
    "    'KNN': KNeighborsClassifier(),\n",
    "    'DecisionTree': DecisionTreeClassifier(),\n",
    "    'NaiveBayes': MultinomialNB(),\n",
    "    'GNB': GaussianNB(),\n",
    "}\n",
    "df_train.gender.replace({'f':0,'m':1},inplace=True)\n",
    "x_train = df_train['story'].apply(format_data)\n",
    "y_train = df_train['gender']\n",
    "prediction_after_normalize(model_list,x_train,y_train)"
   ]
  },
  {
   "cell_type": "markdown",
   "metadata": {},
   "source": [
    "Final - now we want to find the best hyper hyperparameters with GridSearch in addition to scaling and normalization ."
   ]
  },
  {
   "cell_type": "code",
   "execution_count": 13,
   "metadata": {},
   "outputs": [],
   "source": [
    "def prediction_gridsearch(models_list, X_train, y_train):\n",
    "    for model_title, model in models_list.items():\n",
    "        print(f\"Model: {model_title}\")\n",
    "        vectorizers = [\n",
    "            ('Count', CountVectorizer(tokenizer=tokenizer)),\n",
    "            ('TF-IDF', TfidfVectorizer(tokenizer=tokenizer))\n",
    "        ]\n",
    "        for vector_title, vectorizer in vectorizers:\n",
    "            # Create a pipeline with preprocessing and the model\n",
    "            pipeline = Pipeline(steps=[\n",
    "                ('scaler', StandardScaler(with_mean=False)),\n",
    "                ('normalizer', preprocessing.Normalizer(norm='l2')),\n",
    "                ('model', model)\n",
    "            ])\n",
    "            # If using GNB model, convert to dense array\n",
    "            if model_title == 'GNB':\n",
    "                X_features = vectorizer.fit_transform(X_train).toarray()\n",
    "            else:\n",
    "                X_features = vectorizer.fit_transform(X_train)\n",
    "            \n",
    "            # Define hyperparameter grid for GridSearch for each model\n",
    "            param_grid = {}\n",
    "            if model_title == 'KNN':\n",
    "                param_grid = {\"model__n_neighbors\": [3, 5, 7, 10]}\n",
    "            elif model_title == 'DecisionTree':\n",
    "                param_grid = {\"model__criterion\": [\"gini\", \"entropy\"], \"model__max_depth\": [5, 10, 15]}\n",
    "            elif model_title == 'NaiveBayes':\n",
    "                param_grid = {\"model__alpha\": [0.1, 0.01, 0.001]}  # You can add hyperparameters if applicable\n",
    "            elif model_title == 'GNB':\n",
    "                param_grid = {\"model__var_smoothing\": [1e-9, 1e-10, 1e-11]}  # You can add hyperparameters if applicable\n",
    "            \n",
    "            grid_search = GridSearchCV(pipeline, param_grid, cv=5, scoring='f1_macro')\n",
    "            grid_search.fit(X_features, y_train)\n",
    "            \n",
    "            mean_score = cross_val_score(grid_search.best_estimator_, X_features, y_train, cv=10, scoring='f1_macro').mean()\n",
    "            print(f\"Vectorizer: {vector_title}\")\n",
    "            print(\"Best Hyperparameters:\", grid_search.best_params_)\n",
    "            print(\"Mean F1-macro Score:\", mean_score)\n",
    "        print(\"--------------\")"
   ]
  },
  {
   "cell_type": "code",
   "execution_count": 14,
   "metadata": {},
   "outputs": [
    {
     "name": "stdout",
     "output_type": "stream",
     "text": [
      "Model: KNN\n",
      "Vectorizer: Count\n",
      "Best Hyperparameters: {'model__n_neighbors': 3}\n",
      "Mean F1-macro Score: 0.5494802134387073\n",
      "Vectorizer: TF-IDF\n",
      "Best Hyperparameters: {'model__n_neighbors': 3}\n",
      "Mean F1-macro Score: 0.547889814047633\n",
      "--------------\n",
      "Model: DecisionTree\n",
      "Vectorizer: Count\n",
      "Best Hyperparameters: {'model__criterion': 'gini', 'model__max_depth': 15}\n",
      "Mean F1-macro Score: 0.6283200818715751\n",
      "Vectorizer: TF-IDF\n",
      "Best Hyperparameters: {'model__criterion': 'entropy', 'model__max_depth': 15}\n",
      "Mean F1-macro Score: 0.5611216346255665\n",
      "--------------\n",
      "Model: NaiveBayes\n",
      "Vectorizer: Count\n",
      "Best Hyperparameters: {'model__alpha': 0.01}\n",
      "Mean F1-macro Score: 0.5183499237865827\n",
      "Vectorizer: TF-IDF\n",
      "Best Hyperparameters: {'model__alpha': 0.01}\n",
      "Mean F1-macro Score: 0.5002017812433109\n",
      "--------------\n",
      "Model: GNB\n",
      "Vectorizer: Count\n",
      "Best Hyperparameters: {'model__var_smoothing': 1e-09}\n",
      "Mean F1-macro Score: 0.47285243220926365\n",
      "Vectorizer: TF-IDF\n",
      "Best Hyperparameters: {'model__var_smoothing': 1e-09}\n",
      "Mean F1-macro Score: 0.47788226402278966\n",
      "--------------\n"
     ]
    }
   ],
   "source": [
    "model_list = {\n",
    "    'KNN': KNeighborsClassifier(),\n",
    "    'DecisionTree': DecisionTreeClassifier(),\n",
    "    'NaiveBayes': MultinomialNB(),\n",
    "    'GNB': GaussianNB(),\n",
    "}\n",
    "df_train.gender.replace({'f':0,'m':1},inplace=True)\n",
    "x_train = df_train['story'].apply(format_data)\n",
    "y_train = df_train['gender']\n",
    "prediction_gridsearch(model_list,x_train,y_train)"
   ]
  },
  {
   "cell_type": "code",
   "execution_count": null,
   "metadata": {},
   "outputs": [],
   "source": []
  },
  {
   "cell_type": "code",
   "execution_count": null,
   "metadata": {},
   "outputs": [],
   "source": []
  },
  {
   "cell_type": "code",
   "execution_count": null,
   "metadata": {},
   "outputs": [],
   "source": []
  },
  {
   "cell_type": "code",
   "execution_count": null,
   "metadata": {},
   "outputs": [],
   "source": []
  },
  {
   "cell_type": "markdown",
   "metadata": {},
   "source": [
    "### Save output to csv (optional)\n",
    "After you're done save your output to the 'classification_results.csv' csv file.<br/>\n",
    "We assume that the dataframe with your results contain the following columns:\n",
    "* column 1 (left column): 'test_example_id'  - the same id associated to each of the test stories to be predicted.\n",
    "* column 2 (right column): 'predicted_category' - the predicted gender value for each of the associated story. \n",
    "\n",
    "Assuming your predicted values are in the `df_predicted` dataframe, you should save you're results as following:"
   ]
  },
  {
   "cell_type": "code",
   "execution_count": null,
   "metadata": {},
   "outputs": [],
   "source": [
    "df_predicted.to_csv('classification_results.csv',index=False)"
   ]
  }
 ],
 "metadata": {
  "celltoolbar": "Create Assignment",
  "kernelspec": {
   "display_name": "Python 3 (ipykernel)",
   "language": "python",
   "name": "python3"
  },
  "language_info": {
   "codemirror_mode": {
    "name": "ipython",
    "version": 3
   },
   "file_extension": ".py",
   "mimetype": "text/x-python",
   "name": "python",
   "nbconvert_exporter": "python",
   "pygments_lexer": "ipython3",
   "version": "3.11.4"
  }
 },
 "nbformat": 4,
 "nbformat_minor": 4
}
